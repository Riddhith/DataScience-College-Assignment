{
 "cells": [
  {
   "cell_type": "code",
   "execution_count": 1,
   "id": "d1cb4333",
   "metadata": {
    "_cell_guid": "b1076dfc-b9ad-4769-8c92-a6c4dae69d19",
    "_uuid": "8f2839f25d086af736a60e9eeb907d3b93b6e0e5",
    "execution": {
     "iopub.execute_input": "2024-04-05T06:16:36.687002Z",
     "iopub.status.busy": "2024-04-05T06:16:36.686552Z",
     "iopub.status.idle": "2024-04-05T06:16:37.614863Z",
     "shell.execute_reply": "2024-04-05T06:16:37.613306Z"
    },
    "papermill": {
     "duration": 0.937408,
     "end_time": "2024-04-05T06:16:37.617749",
     "exception": false,
     "start_time": "2024-04-05T06:16:36.680341",
     "status": "completed"
    },
    "tags": []
   },
   "outputs": [
    {
     "name": "stdout",
     "output_type": "stream",
     "text": [
      "/kaggle/input/assignment-datasets/demo.csv\n",
      "/kaggle/input/assignment-datasets/utkd_data(1).txt\n"
     ]
    }
   ],
   "source": [
    "# This Python 3 environment comes with many helpful analytics libraries installed\n",
    "# It is defined by the kaggle/python Docker image: https://github.com/kaggle/docker-python\n",
    "# For example, here's several helpful packages to load\n",
    "\n",
    "import numpy as np # linear algebra\n",
    "import pandas as pd # data processing, CSV file I/O (e.g. pd.read_csv)\n",
    "\n",
    "# Input data files are available in the read-only \"../input/\" directory\n",
    "# For example, running this (by clicking run or pressing Shift+Enter) will list all files under the input directory\n",
    "\n",
    "import os\n",
    "for dirname, _, filenames in os.walk('/kaggle/input'):\n",
    "    for filename in filenames:\n",
    "        print(os.path.join(dirname, filename))\n",
    "\n",
    "# You can write up to 20GB to the current directory (/kaggle/working/) that gets preserved as output when you create a version using \"Save & Run All\" \n",
    "# You can also write temporary files to /kaggle/temp/, but they won't be saved outside of the current session"
   ]
  },
  {
   "cell_type": "code",
   "execution_count": 2,
   "id": "9b2a9123",
   "metadata": {
    "execution": {
     "iopub.execute_input": "2024-04-05T06:16:37.627660Z",
     "iopub.status.busy": "2024-04-05T06:16:37.627119Z",
     "iopub.status.idle": "2024-04-05T06:16:39.867316Z",
     "shell.execute_reply": "2024-04-05T06:16:39.866170Z"
    },
    "papermill": {
     "duration": 2.24784,
     "end_time": "2024-04-05T06:16:39.869811",
     "exception": false,
     "start_time": "2024-04-05T06:16:37.621971",
     "status": "completed"
    },
    "tags": []
   },
   "outputs": [
    {
     "name": "stdout",
     "output_type": "stream",
     "text": [
      "[nltk_data] Downloading package wordnet to /usr/share/nltk_data...\n",
      "[nltk_data]   Package wordnet is already up-to-date!\n"
     ]
    }
   ],
   "source": [
    "import re\n",
    "import nltk\n",
    "nltk.download(\"wordnet\")\n",
    "from nltk.corpus import wordnet as wn\n",
    "from nltk.tokenize import regexp_tokenize\n",
    "from nltk.corpus import stopwords\n",
    "stop_words = set(stopwords.words('english'))"
   ]
  },
  {
   "cell_type": "code",
   "execution_count": 3,
   "id": "1013e576",
   "metadata": {
    "execution": {
     "iopub.execute_input": "2024-04-05T06:16:39.880085Z",
     "iopub.status.busy": "2024-04-05T06:16:39.879153Z",
     "iopub.status.idle": "2024-04-05T06:16:39.884583Z",
     "shell.execute_reply": "2024-04-05T06:16:39.883445Z"
    },
    "papermill": {
     "duration": 0.013004,
     "end_time": "2024-04-05T06:16:39.886896",
     "exception": false,
     "start_time": "2024-04-05T06:16:39.873892",
     "status": "completed"
    },
    "tags": []
   },
   "outputs": [],
   "source": [
    "all_hashtag=[]"
   ]
  },
  {
   "cell_type": "code",
   "execution_count": 4,
   "id": "ee47e6b2",
   "metadata": {
    "execution": {
     "iopub.execute_input": "2024-04-05T06:16:39.896780Z",
     "iopub.status.busy": "2024-04-05T06:16:39.896390Z",
     "iopub.status.idle": "2024-04-05T06:16:39.901556Z",
     "shell.execute_reply": "2024-04-05T06:16:39.900424Z"
    },
    "papermill": {
     "duration": 0.012735,
     "end_time": "2024-04-05T06:16:39.903639",
     "exception": false,
     "start_time": "2024-04-05T06:16:39.890904",
     "status": "completed"
    },
    "tags": []
   },
   "outputs": [],
   "source": [
    "def remove_urls(text, replacement_text=\"\"):\n",
    "\turl_pattern = re.compile(r'https?://\\S+|www\\.\\S+')\n",
    "\ttext_without_urls = url_pattern.sub(replacement_text, text)\n",
    "\treturn text_without_urls"
   ]
  },
  {
   "cell_type": "code",
   "execution_count": 5,
   "id": "239e9c3c",
   "metadata": {
    "execution": {
     "iopub.execute_input": "2024-04-05T06:16:39.912981Z",
     "iopub.status.busy": "2024-04-05T06:16:39.912610Z",
     "iopub.status.idle": "2024-04-05T06:16:39.917294Z",
     "shell.execute_reply": "2024-04-05T06:16:39.916452Z"
    },
    "papermill": {
     "duration": 0.011799,
     "end_time": "2024-04-05T06:16:39.919361",
     "exception": false,
     "start_time": "2024-04-05T06:16:39.907562",
     "status": "completed"
    },
    "tags": []
   },
   "outputs": [],
   "source": [
    "def remove_anno(text, replacement_text=\"\"):\n",
    "    pattern=re.compile(r\"@\\w+\")\n",
    "    text_without = pattern.sub(replacement_text, text)\n",
    "    return text_without"
   ]
  },
  {
   "cell_type": "code",
   "execution_count": 6,
   "id": "85d160f5",
   "metadata": {
    "execution": {
     "iopub.execute_input": "2024-04-05T06:16:39.929521Z",
     "iopub.status.busy": "2024-04-05T06:16:39.928863Z",
     "iopub.status.idle": "2024-04-05T06:16:39.934102Z",
     "shell.execute_reply": "2024-04-05T06:16:39.932833Z"
    },
    "papermill": {
     "duration": 0.01317,
     "end_time": "2024-04-05T06:16:39.936499",
     "exception": false,
     "start_time": "2024-04-05T06:16:39.923329",
     "status": "completed"
    },
    "tags": []
   },
   "outputs": [],
   "source": [
    "def find_hash(text):\n",
    "    pattern=r\"#\\w+\"\n",
    "    hashtag = regexp_tokenize(text,pattern)\n",
    "    #print(hashtag)\n",
    "    for i in hashtag:\n",
    "        if i.lower() not in all_hashtag:\n",
    "            all_hashtag.append(i.lower())\n",
    "    return text"
   ]
  },
  {
   "cell_type": "code",
   "execution_count": 7,
   "id": "c0a58ea5",
   "metadata": {
    "execution": {
     "iopub.execute_input": "2024-04-05T06:16:39.946212Z",
     "iopub.status.busy": "2024-04-05T06:16:39.945853Z",
     "iopub.status.idle": "2024-04-05T06:16:39.950136Z",
     "shell.execute_reply": "2024-04-05T06:16:39.949392Z"
    },
    "papermill": {
     "duration": 0.011706,
     "end_time": "2024-04-05T06:16:39.952221",
     "exception": false,
     "start_time": "2024-04-05T06:16:39.940515",
     "status": "completed"
    },
    "tags": []
   },
   "outputs": [],
   "source": [
    "def remove_digit(text, replacement_text=\"\"):\n",
    "    pattern=re.compile(r\"\\d+\")\n",
    "    text_without = pattern.sub(replacement_text, text)\n",
    "    return text_without"
   ]
  },
  {
   "cell_type": "code",
   "execution_count": 8,
   "id": "3694028a",
   "metadata": {
    "execution": {
     "iopub.execute_input": "2024-04-05T06:16:39.963083Z",
     "iopub.status.busy": "2024-04-05T06:16:39.961976Z",
     "iopub.status.idle": "2024-04-05T06:16:39.983696Z",
     "shell.execute_reply": "2024-04-05T06:16:39.982201Z"
    },
    "papermill": {
     "duration": 0.030071,
     "end_time": "2024-04-05T06:16:39.986721",
     "exception": false,
     "start_time": "2024-04-05T06:16:39.956650",
     "status": "completed"
    },
    "tags": []
   },
   "outputs": [],
   "source": [
    "files= open(\"/kaggle/input/assignment-datasets/utkd_data(1).txt\",encoding='utf-8').readlines()"
   ]
  },
  {
   "cell_type": "code",
   "execution_count": 9,
   "id": "5e1f5eb8",
   "metadata": {
    "execution": {
     "iopub.execute_input": "2024-04-05T06:16:39.996910Z",
     "iopub.status.busy": "2024-04-05T06:16:39.996509Z",
     "iopub.status.idle": "2024-04-05T06:16:40.006631Z",
     "shell.execute_reply": "2024-04-05T06:16:40.005398Z"
    },
    "papermill": {
     "duration": 0.018149,
     "end_time": "2024-04-05T06:16:40.008982",
     "exception": false,
     "start_time": "2024-04-05T06:16:39.990833",
     "status": "completed"
    },
    "tags": []
   },
   "outputs": [],
   "source": [
    "count=0\n",
    "word=[]\n",
    "line_words=[]\n",
    "all_words=[]\n",
    "for line in iter(files):\n",
    "    if count<20:\n",
    "            line=line.strip()\n",
    "            line=line.lower()\n",
    "            line=remove_urls(line)\n",
    "            line=remove_anno(line)\n",
    "            line =find_hash(line)\n",
    "            line=remove_digit(line)\n",
    "            \n",
    "            #print(line)\n",
    "            \n",
    "            #line1=line.split(\" \")\n",
    "            #for i in line1:\n",
    "                #all_words.append(i)\n",
    "\n",
    "            pattern=r\"[a-z|#]\\w+\"\n",
    "            node=re.findall(pattern,line)\n",
    "            #print(node)\n",
    "            line_list=[]\n",
    "            #node=line.split(' ')            \n",
    "            for i in node:\n",
    "                if i not in stop_words:\n",
    "                      all_words.append(i)                    \n",
    "                      if i[0]!='#':\n",
    "                            line_list.append(i)\n",
    "                            if i not in word:\n",
    "                                word.append(i)\n",
    "            #print(line_list)\n",
    "            line_words.append(line_list)\n",
    "            count=count+1\n"
   ]
  },
  {
   "cell_type": "code",
   "execution_count": 10,
   "id": "8d602f45",
   "metadata": {
    "execution": {
     "iopub.execute_input": "2024-04-05T06:16:40.018884Z",
     "iopub.status.busy": "2024-04-05T06:16:40.018283Z",
     "iopub.status.idle": "2024-04-05T06:16:40.023260Z",
     "shell.execute_reply": "2024-04-05T06:16:40.022316Z"
    },
    "papermill": {
     "duration": 0.012609,
     "end_time": "2024-04-05T06:16:40.025587",
     "exception": false,
     "start_time": "2024-04-05T06:16:40.012978",
     "status": "completed"
    },
    "tags": []
   },
   "outputs": [
    {
     "name": "stdout",
     "output_type": "stream",
     "text": [
      "Total distnct words: 85\n",
      "Total hashtags: 10\n"
     ]
    }
   ],
   "source": [
    "print(\"Total distnct words: \"+str(len(word)))\n",
    "print(\"Total hashtags: \"+str(len(all_hashtag)))"
   ]
  },
  {
   "cell_type": "code",
   "execution_count": 11,
   "id": "f7924c5c",
   "metadata": {
    "execution": {
     "iopub.execute_input": "2024-04-05T06:16:40.035536Z",
     "iopub.status.busy": "2024-04-05T06:16:40.034901Z",
     "iopub.status.idle": "2024-04-05T06:16:40.040882Z",
     "shell.execute_reply": "2024-04-05T06:16:40.039784Z"
    },
    "papermill": {
     "duration": 0.013488,
     "end_time": "2024-04-05T06:16:40.043044",
     "exception": false,
     "start_time": "2024-04-05T06:16:40.029556",
     "status": "completed"
    },
    "tags": []
   },
   "outputs": [],
   "source": [
    "chashtag={}\n",
    "for i in all_hashtag:\n",
    "    c=1\n",
    "    for j in range(len(all_words)):\n",
    "        if i == all_words[j]:\n",
    "            c=c+1\n",
    "    chashtag[i]=c\n",
    "#print(chashtag)\n",
    "\n",
    "\n",
    "sorted_chashtag={key: val for key, val in sorted(chashtag.items(), key = lambda ele: ele[1],reverse = True)}"
   ]
  },
  {
   "cell_type": "code",
   "execution_count": 12,
   "id": "4f6af14d",
   "metadata": {
    "execution": {
     "iopub.execute_input": "2024-04-05T06:16:40.053119Z",
     "iopub.status.busy": "2024-04-05T06:16:40.052462Z",
     "iopub.status.idle": "2024-04-05T06:16:40.061656Z",
     "shell.execute_reply": "2024-04-05T06:16:40.060698Z"
    },
    "papermill": {
     "duration": 0.01665,
     "end_time": "2024-04-05T06:16:40.063704",
     "exception": false,
     "start_time": "2024-04-05T06:16:40.047054",
     "status": "completed"
    },
    "tags": []
   },
   "outputs": [
    {
     "name": "stdout",
     "output_type": "stream",
     "text": [
      "#uttarakhand=>5\n",
      "#news=>4\n",
      "#rainswash=>2\n"
     ]
    }
   ],
   "source": [
    "cnt=0\n",
    "for i in sorted_chashtag.keys():\n",
    "     cnt=cnt+1\n",
    "     if cnt <=3:\n",
    "          print(str(i)+\"=>\"+str(sorted_chashtag[i]))\n",
    "\n",
    "\n",
    "file1 = open('/kaggle/working/demo.csv', 'w')\n",
    "s=''\n",
    "for i in word:\n",
    "     s=s+i+','\n",
    "s=s[0:len(s)-1] + '\\n'\n",
    "#print(s)\n",
    "file1.write(s)\n",
    "for i in line_words:\n",
    "    #print(i)\n",
    "    s=''\n",
    "    for j in word:\n",
    "        if j in i:\n",
    "             s=s + (str(1)+',')\n",
    "        else:\n",
    "             s=s + (str(0)+',')\n",
    "    s=s[0:len(s)-1] + '\\n'\n",
    "    #print(s+\"\\n \\n\")\n",
    "    file1.write(s)\n",
    "file1.close()"
   ]
  }
 ],
 "metadata": {
  "kaggle": {
   "accelerator": "none",
   "dataSources": [
    {
     "datasetId": 4735854,
     "sourceId": 8034162,
     "sourceType": "datasetVersion"
    }
   ],
   "dockerImageVersionId": 30673,
   "isGpuEnabled": false,
   "isInternetEnabled": true,
   "language": "python",
   "sourceType": "notebook"
  },
  "kernelspec": {
   "display_name": "Python 3",
   "language": "python",
   "name": "python3"
  },
  "language_info": {
   "codemirror_mode": {
    "name": "ipython",
    "version": 3
   },
   "file_extension": ".py",
   "mimetype": "text/x-python",
   "name": "python",
   "nbconvert_exporter": "python",
   "pygments_lexer": "ipython3",
   "version": "3.10.13"
  },
  "papermill": {
   "default_parameters": {},
   "duration": 6.773053,
   "end_time": "2024-04-05T06:16:40.689491",
   "environment_variables": {},
   "exception": null,
   "input_path": "__notebook__.ipynb",
   "output_path": "__notebook__.ipynb",
   "parameters": {},
   "start_time": "2024-04-05T06:16:33.916438",
   "version": "2.5.0"
  }
 },
 "nbformat": 4,
 "nbformat_minor": 5
}
